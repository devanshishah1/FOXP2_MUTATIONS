{
 "cells": [
  {
   "cell_type": "code",
   "execution_count": 1,
   "id": "ad69a456",
   "metadata": {},
   "outputs": [],
   "source": [
    "f = open('/Users/devanshishah/Downloads/foxp2.fasta')\n"
   ]
  },
  {
   "cell_type": "code",
   "execution_count": 2,
   "id": "6beb3c6f",
   "metadata": {},
   "outputs": [],
   "source": [
    "original_seq = {}"
   ]
  },
  {
   "cell_type": "code",
   "execution_count": 3,
   "id": "ec6791bf",
   "metadata": {},
   "outputs": [],
   "source": [
    "\n",
    "for line in f:\n",
    "    line = line.rstrip()  \n",
    "    if len(line) > 0 and line[0] == '>': \n",
    "        words = line.split()  \n",
    "        name = words[0][1:]  \n",
    "        original_seq[name] = '' \n",
    "    else:\n",
    "        original_seq[name] += line \n"
   ]
  },
  {
   "cell_type": "code",
   "execution_count": 4,
   "id": "411421f4",
   "metadata": {},
   "outputs": [],
   "source": [
    "import random\n",
    "\n",
    "\n",
    "def random_mutations(sequence):\n",
    "    dna = list(sequence)\n",
    "    nbases = dna.count('n') + dna.count('N')\n",
    "    x = len(dna)\n",
    "    mut_prob = 0.01 * x\n",
    "    \n",
    "    for _ in range(int(mut_prob)): \n",
    "        mutation = random.choice(\"I,D,S\")\n",
    "        position = random.randint(0, x-1)\n",
    "        basechange = random.choice(\"A,T,C,G\")\n",
    "        \n",
    "        if mutation == \"I\":\n",
    "            dna.insert(position, basechange)\n",
    "        elif mutation == \"D\":\n",
    "            dna.pop(position)\n",
    "        elif mutation == \"S\":\n",
    "            position = basechange\n",
    "    \n",
    "    return ''.join(dna)\n",
    "\n",
    "\n",
    "\n",
    "for key in original_seq:\n",
    "    mutated_seq = random_mutations(original_seq[key])\n",
    "    #print(key,\":\\n\" ,mutated_seq)\n",
    "            \n",
    "        \n",
    "    "
   ]
  },
  {
   "cell_type": "code",
   "execution_count": 5,
   "id": "9b4e6f60",
   "metadata": {},
   "outputs": [
    {
     "ename": "KeyError",
     "evalue": "0",
     "output_type": "error",
     "traceback": [
      "\u001b[0;31m---------------------------------------------------------------------------\u001b[0m",
      "\u001b[0;31mKeyError\u001b[0m                                  Traceback (most recent call last)",
      "\u001b[0;32m/var/folders/f_/_pccgc955s77sxdv6dny1hkh0000gn/T/ipykernel_89370/1562672037.py\u001b[0m in \u001b[0;36m<module>\u001b[0;34m\u001b[0m\n\u001b[1;32m     27\u001b[0m \u001b[0;34m\u001b[0m\u001b[0m\n\u001b[1;32m     28\u001b[0m \u001b[0;34m\u001b[0m\u001b[0m\n\u001b[0;32m---> 29\u001b[0;31m \u001b[0msubstitutions\u001b[0m\u001b[0;34m,\u001b[0m \u001b[0minsertions\u001b[0m\u001b[0;34m,\u001b[0m \u001b[0mdeletions\u001b[0m \u001b[0;34m=\u001b[0m \u001b[0mmutation_counter\u001b[0m\u001b[0;34m(\u001b[0m\u001b[0moriginal_seq\u001b[0m\u001b[0;34m,\u001b[0m \u001b[0mmutated_seq\u001b[0m\u001b[0;34m)\u001b[0m\u001b[0;34m\u001b[0m\u001b[0;34m\u001b[0m\u001b[0m\n\u001b[0m\u001b[1;32m     30\u001b[0m \u001b[0;34m\u001b[0m\u001b[0m\n\u001b[1;32m     31\u001b[0m \u001b[0mprint\u001b[0m \u001b[0;34m(\u001b[0m\u001b[0;34m\"No. of deletions:\"\u001b[0m\u001b[0;34m,\u001b[0m \u001b[0mdeletions\u001b[0m\u001b[0;34m,\u001b[0m \u001b[0;34m\"\\n No. of substitutions:\"\u001b[0m\u001b[0;34m,\u001b[0m \u001b[0msubstitutions\u001b[0m\u001b[0;34m,\u001b[0m \u001b[0;34m\"\\n No. of insertions:\"\u001b[0m\u001b[0;34m,\u001b[0m \u001b[0minsertions\u001b[0m\u001b[0;34m)\u001b[0m\u001b[0;34m\u001b[0m\u001b[0;34m\u001b[0m\u001b[0m\n",
      "\u001b[0;32m/var/folders/f_/_pccgc955s77sxdv6dny1hkh0000gn/T/ipykernel_89370/1562672037.py\u001b[0m in \u001b[0;36mmutation_counter\u001b[0;34m(original, mutated)\u001b[0m\n\u001b[1;32m     10\u001b[0m \u001b[0;34m\u001b[0m\u001b[0m\n\u001b[1;32m     11\u001b[0m     \u001b[0;32mwhile\u001b[0m \u001b[0mi\u001b[0m \u001b[0;34m<\u001b[0m \u001b[0morig_len\u001b[0m \u001b[0;32mand\u001b[0m \u001b[0mj\u001b[0m \u001b[0;34m<\u001b[0m \u001b[0mmut_len\u001b[0m\u001b[0;34m:\u001b[0m\u001b[0;34m\u001b[0m\u001b[0;34m\u001b[0m\u001b[0m\n\u001b[0;32m---> 12\u001b[0;31m         \u001b[0;32mif\u001b[0m \u001b[0moriginal\u001b[0m\u001b[0;34m[\u001b[0m\u001b[0mi\u001b[0m\u001b[0;34m]\u001b[0m \u001b[0;34m!=\u001b[0m \u001b[0mmutated\u001b[0m\u001b[0;34m[\u001b[0m\u001b[0mj\u001b[0m\u001b[0;34m]\u001b[0m\u001b[0;34m:\u001b[0m\u001b[0;34m\u001b[0m\u001b[0;34m\u001b[0m\u001b[0m\n\u001b[0m\u001b[1;32m     13\u001b[0m             \u001b[0msubstitutions\u001b[0m \u001b[0;34m+=\u001b[0m \u001b[0;36m1\u001b[0m\u001b[0;34m\u001b[0m\u001b[0;34m\u001b[0m\u001b[0m\n\u001b[1;32m     14\u001b[0m \u001b[0;34m\u001b[0m\u001b[0m\n",
      "\u001b[0;31mKeyError\u001b[0m: 0"
     ]
    }
   ],
   "source": [
    "def mutation_counter(original, mutated):\n",
    "    substitutions = 0\n",
    "    insertions = 0\n",
    "    deletions = 0\n",
    "    \n",
    "    orig_len = len(original)\n",
    "    mut_len = len(mutated)\n",
    "\n",
    "    i, j = 0, 0\n",
    "    \n",
    "    while i < orig_len and j < mut_len:\n",
    "        if original[i] != mutated[j]:  \n",
    "            substitutions += 1\n",
    "            \n",
    "        i += 1\n",
    "        j += 1\n",
    "    \n",
    "        \n",
    "    if orig_len > mut_len:\n",
    "        deletion += 1\n",
    "    \n",
    "    if mut_len > orig_len:\n",
    "        insertion += 1\n",
    "    \n",
    "    return substitutions, insertions, deletions\n",
    "\n",
    "\n",
    "\n",
    "substitutions, insertions, deletions = mutation_counter(original_seq, mutated_seq)\n",
    "\n",
    "\n",
    "print (\"No. of deletions:\", deletions, \"\\n No. of substitutions:\", substitutions, \"\\n No. of insertions:\", insertions)\n",
    "    "
   ]
  },
  {
   "cell_type": "code",
   "execution_count": null,
   "id": "8af1cb12",
   "metadata": {},
   "outputs": [],
   "source": []
  },
  {
   "cell_type": "code",
   "execution_count": null,
   "id": "3acdf4fa",
   "metadata": {},
   "outputs": [],
   "source": []
  }
 ],
 "metadata": {
  "kernelspec": {
   "display_name": "Python 3 (ipykernel)",
   "language": "python",
   "name": "python3"
  },
  "language_info": {
   "codemirror_mode": {
    "name": "ipython",
    "version": 3
   },
   "file_extension": ".py",
   "mimetype": "text/x-python",
   "name": "python",
   "nbconvert_exporter": "python",
   "pygments_lexer": "ipython3",
   "version": "3.9.13"
  }
 },
 "nbformat": 4,
 "nbformat_minor": 5
}
